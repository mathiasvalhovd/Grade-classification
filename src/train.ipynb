{
 "cells": [
  {
   "cell_type": "code",
   "execution_count": null,
   "metadata": {},
   "outputs": [],
   "source": [
    "# 🏁 1. Install and import dependencies (run once!)\n",
    "# If using Colab or not installed:\n",
    "# !pip install autogluon --upgrade\n",
    "\n",
    "import pandas as pd\n",
    "from autogluon.tabular import TabularPredictor\n",
    "from sklearn.metrics import accuracy_score, precision_score, recall_score, f1_score, classification_report\n",
    "\n",
    "\n"
   ]
  },
  {
   "cell_type": "code",
   "execution_count": null,
   "metadata": {},
   "outputs": [],
   "source": [
    "# 📂 2. Load data\n",
    "train_path = \"data/processed/train.csv\"\n",
    "test_path  = \"data/processed/test.csv\"\n",
    "\n",
    "df_train = pd.read_csv(train_path)\n",
    "df_test  = pd.read_csv(test_path)\n",
    "\n",
    "print(df_train.shape, df_test.shape)\n",
    "df_train.head()\n",
    "\n",
    "# 🏷️ 3. Define label and feature columns\n",
    "label = \"grade_cat\"   # or whatever your target is named\n",
    "if label not in df_train.columns:\n",
    "    raise ValueError(f\"Column '{label}' not found! Double-check your data.\")\n",
    "\n",
    "# 🚀 4. Train AutoGluon with 3+ supervised learning methods\n",
    "predictor = TabularPredictor(label=label, eval_metric=\"accuracy\", path=\"models/autogluon/\") \\\n",
    "    .fit(df_train, presets=\"best_quality\", time_limit=None)\n",
    "\n",
    "# 💡 By default, AutoGluon tries RF, XGBoost, LightGBM, CatBoost, KNN, NN (MLP), ExtraTrees, etc.\n",
    "\n",
    "# 5️⃣ 5. Leaderboard: See all models and scores on validation data\n",
    "lb = predictor.leaderboard(silent=True)\n",
    "display(lb)\n",
    "\n",
    "# 🧪 6. Predict and evaluate on test set\n",
    "y_true = df_test[label]\n",
    "y_pred = predictor.predict(df_test)\n",
    "\n",
    "print(\"Accuracy: \", accuracy_score(y_true, y_pred))\n",
    "print(\"Precision:\", precision_score(y_true, y_pred, average=\"weighted\"))\n",
    "print(\"Recall:   \", recall_score(y_true, y_pred, average=\"weighted\"))\n",
    "print(\"F1-score: \", f1_score(y_true, y_pred, average=\"weighted\"))\n",
    "print(\"\\nFull classification report:\\n\")\n",
    "print(classification_report(y_true, y_pred))\n",
    "\n",
    "# 🔍 7. (Optional) Feature importance plot\n",
    "import matplotlib.pyplot as plt\n",
    "fi = predictor.feature_importance(df_test)\n",
    "plt.figure(figsize=(8,5))\n",
    "fi[\"importance\"].head(20).plot(kind=\"barh\")\n",
    "plt.title(\"Top Feature Importances\")\n",
    "plt.show()"
   ]
  }
 ],
 "metadata": {
  "language_info": {
   "name": "python"
  }
 },
 "nbformat": 4,
 "nbformat_minor": 2
}
