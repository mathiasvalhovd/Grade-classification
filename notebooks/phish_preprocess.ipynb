{
 "cells": [
  {
   "cell_type": "markdown",
   "id": "50442c1e",
   "metadata": {},
   "source": [
    "# Phishing Email Dataset – Preprocessing Notebook\n",
    "This notebook cleans the raw CSV of phishing / legitimate e‑mails and creates **train**, **val**, and **test** JSONL splits ready for deep‑learning models.\n",
    "\n",
    "➡️ **Update the `DATA_PATH` below if your CSV has a different filename or location.**"
   ]
  },
  {
   "cell_type": "code",
   "execution_count": null,
   "id": "45e470e3",
   "metadata": {},
   "outputs": [],
   "source": [
    "import os, re, json, unicodedata, html\n",
    "from pathlib import Path\n",
    "import pandas as pd\n",
    "from sklearn.model_selection import train_test_split\n",
    "from bs4 import BeautifulSoup"
   ]
  },
  {
   "cell_type": "code",
   "execution_count": null,
   "id": "79be6332",
   "metadata": {},
   "outputs": [],
   "source": [
    "# ---- Configuration ----\n",
    "DATA_PATH = Path('data/raw/phishing_emails.csv')  # 👉 change if needed\n",
    "OUTPUT_DIR = Path('data/processed')\n",
    "OUTPUT_DIR.mkdir(parents=True, exist_ok=True)\n",
    "RANDOM_SEED = 42"
   ]
  },
  {
   "cell_type": "code",
   "execution_count": null,
   "id": "e4226810",
   "metadata": {},
   "outputs": [],
   "source": [
    "df = pd.read_csv(DATA_PATH)\n",
    "print(f'Loaded {len(df)} rows from {DATA_PATH}')\n",
    "df.head()"
   ]
  },
  {
   "cell_type": "code",
   "execution_count": null,
   "id": "95b4a69c",
   "metadata": {},
   "outputs": [],
   "source": [
    "def clean_email(text: str) -> str:\n",
    "    \"\"\"Strip HTML, normalise accents, lowercase & collapse whitespace.\"\"\"\n",
    "    if pd.isna(text):\n",
    "        return ''\n",
    "    text = BeautifulSoup(text, 'html.parser').get_text(' ', strip=True)\n",
    "    text = html.unescape(text)\n",
    "    text = unicodedata.normalize('NFKD', text).encode('ascii', 'ignore').decode('ascii')\n",
    "    text = text.lower()\n",
    "    text = re.sub(r'\\s+', ' ', text).strip()\n",
    "    return text"
   ]
  },
  {
   "cell_type": "code",
   "execution_count": null,
   "id": "bccf767e",
   "metadata": {},
   "outputs": [],
   "source": [
    "# 🔄 Adjust these column names if your CSV schema differs\n",
    "df['clean_text'] = df['text'].apply(clean_email)  # 'text' ➜ original column\n",
    "df = df.rename(columns={'label': 'target'})       # 'label' ➜ 0/1 class column\n",
    "df[['clean_text', 'target']].head()"
   ]
  },
  {
   "cell_type": "code",
   "execution_count": null,
   "id": "ac8a767e",
   "metadata": {},
   "outputs": [],
   "source": [
    "train_df, temp_df = train_test_split(\n",
    "    df, test_size=0.30, stratify=df['target'], random_state=RANDOM_SEED)\n",
    "val_df, test_df = train_test_split(\n",
    "    temp_df, test_size=0.50, stratify=temp_df['target'], random_state=RANDOM_SEED)\n",
    "\n",
    "for split_name, split_df in [('train', train_df), ('val', val_df), ('test', test_df)]:\n",
    "    out_path = OUTPUT_DIR / f'{split_name}.jsonl'\n",
    "    split_df[['clean_text', 'target']]\n",
    "        .rename(columns={'clean_text': 'text'})\n",
    "        .to_json(out_path, orient='records', lines=True, force_ascii=False)\n",
    "    print(f'Saved {len(split_df)} records ➜ {out_path}')"
   ]
  },
  {
   "cell_type": "code",
   "execution_count": null,
   "id": "59b87359",
   "metadata": {},
   "outputs": [],
   "source": [
    "print('\\nClass distribution by split:')\n",
    "for name, d in [('train', train_df), ('val', val_df), ('test', test_df)]:\n",
    "    print(name.ljust(5), d['target'].value_counts(normalize=True).round(3).to_dict())"
   ]
  }
 ],
 "metadata": {},
 "nbformat": 4,
 "nbformat_minor": 5
}
